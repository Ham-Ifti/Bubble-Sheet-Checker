{
 "cells": [
  {
   "cell_type": "code",
   "execution_count": 1,
   "id": "93029d1b",
   "metadata": {},
   "outputs": [],
   "source": [
    "import cv2\n",
    "import numpy as np\n",
    "from matplotlib import pyplot as plt\n",
    "from imutils.perspective import four_point_transform\n",
    "from imutils import grab_contours"
   ]
  },
  {
   "cell_type": "code",
   "execution_count": 13,
   "id": "9d17de16",
   "metadata": {},
   "outputs": [],
   "source": [
    "plt.rcParams[\"figure.figsize\"] = (20, 20)\n",
    "# plt.rcParams[\"figure.figsize\"] = plt.rcParamsDefault[\"figure.figsize\"]"
   ]
  },
  {
   "cell_type": "code",
   "execution_count": 3,
   "id": "245fdfdb",
   "metadata": {},
   "outputs": [],
   "source": [
    "def getContours(imgPath):\n",
    "    img = cv2.imread(imgPath)\n",
    "    gray = cv2.cvtColor(img, cv2.COLOR_BGR2GRAY)\n",
    "    blurred = cv2.GaussianBlur(gray, (5, 5), 0)\n",
    "    edges = cv2.Canny(blurred, 30, 100)\n",
    "    #getting contours\n",
    "    contours, hierarchy = cv2.findContours(edges, cv2.RETR_EXTERNAL, cv2.CHAIN_APPROX_SIMPLE)\n",
    "    contours = sorted(contours, key = cv2.contourArea, reverse = True)\n",
    "    rec_Contours = []\n",
    "    if len(contours) > 0:\n",
    "        for i in range(2):\n",
    "            arcLength = cv2.arcLength(contours[i], True)\n",
    "            approx = cv2.approxPolyDP(contours[i], 0.02 * arcLength, True)\n",
    "            if len(approx) == 4:\n",
    "                rec_Contours.append(approx)\n",
    "\n",
    "    return rec_Contours, img, gray"
   ]
  },
  {
   "cell_type": "code",
   "execution_count": 4,
   "id": "ffb23c09",
   "metadata": {},
   "outputs": [],
   "source": [
    "def cropPaper(img, gray, contours):\n",
    "    paperBlocks = []\n",
    "    warpedPapers = []\n",
    "    for c in contours:\n",
    "        paperBlocks.append(four_point_transform(img, c.reshape(4, 2)))\n",
    "        warpedPapers.append(four_point_transform(gray, c.reshape(4, 2)))\n",
    "    \n",
    "    return paperBlocks, warpedPapers"
   ]
  },
  {
   "cell_type": "code",
   "execution_count": 5,
   "id": "21f400cc",
   "metadata": {
    "scrolled": false
   },
   "outputs": [],
   "source": [
    "def getThresholdedImage(warped_Papers):\n",
    "    opened = []\n",
    "    for paperBlock in warped_Papers:\n",
    "        thresholded = cv2.adaptiveThreshold(paperBlock, 255,\n",
    "                                cv2.ADAPTIVE_THRESH_GAUSSIAN_C, cv2.THRESH_BINARY_INV, 35, 5)\n",
    "        #removing top 25 rows to get rid of option letters A, B, C, D, E\n",
    "        thresholded = thresholded[26:]\n",
    "        thresholded = cv2.resize(thresholded, (215, 750))\n",
    "        kernel = np.ones((5, 5), dtype = np.uint8)\n",
    "        eroded = cv2.erode(thresholded, kernel, iterations = 3)\n",
    "        dilated = cv2.dilate(eroded, kernel, iterations = 2)\n",
    "        opened.append(dilated)\n",
    "    \n",
    "    return opened"
   ]
  },
  {
   "cell_type": "code",
   "execution_count": 6,
   "id": "b14ffae0",
   "metadata": {
    "scrolled": true
   },
   "outputs": [],
   "source": [
    "def splitBoxes(image, questions = 25, options = 5):\n",
    "    boxes = []\n",
    "    rows = np.vsplit(image, questions)\n",
    "    for r in rows:\n",
    "        cols = np.hsplit(r, options)\n",
    "        for c in cols:\n",
    "            boxes.append(c)\n",
    "\n",
    "    return boxes"
   ]
  },
  {
   "cell_type": "code",
   "execution_count": 7,
   "id": "376b1030",
   "metadata": {
    "scrolled": false
   },
   "outputs": [],
   "source": [
    "def countPixelsinBoxes(boxes, questions = 25, options = 5):\n",
    "    pixelValues = np.zeros((questions, options), dtype = np.int32)\n",
    "    row, col = 0, 0\n",
    "    for box in boxes:\n",
    "        pixels = cv2.countNonZero(box)\n",
    "        pixelValues[row][col] = pixels\n",
    "        col += 1\n",
    "        if col == options:\n",
    "            col = 0\n",
    "            row += 1\n",
    "    \n",
    "    return pixelValues"
   ]
  },
  {
   "cell_type": "code",
   "execution_count": 9,
   "id": "d707eaa7",
   "metadata": {},
   "outputs": [],
   "source": [
    "def getChoices(pixelValues):\n",
    "    choices = {}\n",
    "    for i in range(len(pixelValues)):\n",
    "        threshold = 100\n",
    "        #getting indexes where values >= threshold\n",
    "        indexes = np.where(pixelValues[i] >= threshold)[0]\n",
    "        if indexes.size == 1:\n",
    "            option = ''\n",
    "            match indexes:\n",
    "                case 0: option += 'A'\n",
    "                case 1: option += 'B'\n",
    "                case 2: option += 'C'\n",
    "                case 3: option += 'D'\n",
    "                case 4: option += 'E'\n",
    "            choices[i + 1] = option\n",
    "        else:\n",
    "            choices[i + 1] = 'UnMarked'\n",
    "            \n",
    "    return choices"
   ]
  },
  {
   "cell_type": "code",
   "execution_count": 30,
   "id": "c2d9aac9",
   "metadata": {
    "scrolled": false
   },
   "outputs": [
    {
     "data": {
      "image/png": "[encoded data removed]",
      "text/plain": [
       "<Figure size 1440x1440 with 1 Axes>"
      ]
     },
     "metadata": {
      "needs_background": "light"
     },
     "output_type": "display_data"
    }
   ],
   "source": [
    "#Main Function\n",
    "#contours\n",
    "contours, image, gray = getContours('./A4_images/7.jpeg')\n",
    "contour_image = image.copy()\n",
    "cv2.drawContours(contour_image, contours, -1, (255, 0, 0), 3)\n",
    "\n",
    "#warped\n",
    "paperBlocks, warpedPapers = cropPaper(image, gray, contours)\n",
    "\n",
    "#thresholded\n",
    "opened = getThresholdedImage(warpedPapers)\n",
    "\n",
    "#Counting Pixels and getting choices\n",
    "boxes = splitBoxes(opened[0], questions = 25)\n",
    "boxes.extend(splitBoxes(opened[1], questions = 15))\n",
    "pixelValues = countPixelsinBoxes(boxes, questions = 40)\n",
    "choices = getChoices(pixelValues)\n",
    "# print(choices)\n",
    "\n",
    "# figure, axes = plt.subplots(1, 6, figsize = (20, 20))\n",
    "# figure.tight_layout()\n",
    "# axes[0].imshow(image)\n",
    "# axes[1].imshow(contour_image)\n",
    "# axes[2].imshow(warpedPapers[0], cmap = 'gray')\n",
    "# axes[3].imshow(warpedPapers[1], cmap = 'gray')\n",
    "# axes[4].imshow(opened[0], cmap = 'gray')\n",
    "# axes[5].imshow(opened[1], cmap = 'gray')\n",
    "opened[0] = cv2.resize(opened[0], (215, 750))\n",
    "opened[1] = cv2.resize(opened[1], (215, 750))\n",
    "# print(warpedPapers[0].shape, warpedPapers[1].shape)\n",
    "# warped = np.hstack((opened[0], opened[1]))\n",
    "plt.imshow(opened[0], cmap = 'gray')\n",
    "plt.show()"
   ]
  },
  {
   "cell_type": "code",
   "execution_count": 34,
   "id": "a66cd72f",
   "metadata": {},
   "outputs": [],
   "source": [
    "answers = {\n",
    "    1: 'B', 2: 'C', 3: 'B', 4: 'B', 5: 'B', 6: 'B', 7: 'C', 8: 'D', 9: 'C', 10: 'C',\n",
    "    11: 'D', 12: 'D', 13: 'E', 14: 'D', 15: 'C', 16: 'B', 17: 'C', 18: 'A', 19: 'B', 20: 'C',\n",
    "    21: 'D', 22: 'B', 23: 'C', 24: 'E', 25: 'B', 26: 'E', 27: 'E', 28: 'A', 29: 'B', 30: 'C',\n",
    "    31: 'D', 32: 'E', 33: 'A', 34: 'B', 35: 'C', 36: 'D', 37: 'D', 38: 'C', 39: 'B', 40: 'A',\n",
    "}"
   ]
  },
  {
   "cell_type": "code",
   "execution_count": 35,
   "id": "2f02bba4",
   "metadata": {},
   "outputs": [
    {
     "name": "stdout",
     "output_type": "stream",
     "text": [
      "Marks = 7\n"
     ]
    }
   ],
   "source": [
    "def getScores(answers, choices):\n",
    "    score = 0\n",
    "    for key, value in choices.items():\n",
    "        correct_answer = answers[key]\n",
    "        if correct_answer == value:\n",
    "            score += 1\n",
    "            \n",
    "    return score\n",
    "\n",
    "print(f'Marks = {getScores(answers, choices)}')"
   ]
  },
  {
   "cell_type": "code",
   "execution_count": null,
   "id": "9388163e",
   "metadata": {},
   "outputs": [],
   "source": []
  }
 ],
 "metadata": {
  "kernelspec": {
   "display_name": "Python 3 (ipykernel)",
   "language": "python",
   "name": "python3"
  },
  "language_info": {
   "codemirror_mode": {
    "name": "ipython",
    "version": 3
   },
   "file_extension": ".py",
   "mimetype": "text/x-python",
   "name": "python",
   "nbconvert_exporter": "python",
   "pygments_lexer": "ipython3",
   "version": "3.10.5"
  }
 },
 "nbformat": 4,
 "nbformat_minor": 5
}
